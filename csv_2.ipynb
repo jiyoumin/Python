{
  "nbformat": 4,
  "nbformat_minor": 0,
  "metadata": {
    "colab": {
      "name": "csv_2.ipynb",
      "provenance": [],
      "mount_file_id": "1_9gt04yyV6pylZ5S0SOnZ2cCPXqiJCQG",
      "authorship_tag": "ABX9TyOdNe9xx60OShEa3XSYQHsN",
      "include_colab_link": true
    },
    "kernelspec": {
      "name": "python3",
      "display_name": "Python 3"
    }
  },
  "cells": [
    {
      "cell_type": "markdown",
      "metadata": {
        "id": "view-in-github",
        "colab_type": "text"
      },
      "source": [
        "<a href=\"https://colab.research.google.com/github/jiyoumin/Python/blob/master/csv_2.ipynb\" target=\"_parent\"><img src=\"https://colab.research.google.com/assets/colab-badge.svg\" alt=\"Open In Colab\"/></a>"
      ]
    },
    {
      "cell_type": "code",
      "metadata": {
        "id": "d9F7iTCBCSwZ",
        "colab_type": "code",
        "colab": {}
      },
      "source": [
        "import pandas as pd"
      ],
      "execution_count": 0,
      "outputs": []
    },
    {
      "cell_type": "code",
      "metadata": {
        "id": "3lM2EGjSCWaL",
        "colab_type": "code",
        "colab": {}
      },
      "source": [
        "import glob"
      ],
      "execution_count": 0,
      "outputs": []
    },
    {
      "cell_type": "code",
      "metadata": {
        "id": "xcztY4ryDNzQ",
        "colab_type": "code",
        "colab": {
          "base_uri": "https://localhost:8080/",
          "height": 87
        },
        "outputId": "6071c9f6-9a1d-45b0-b951-74c7631ce61d"
      },
      "source": [
        "path = '/content/sample_data/'\n",
        "for file_name in glob.glob(path+'*.csv') :\n",
        "  print(file_name)"
      ],
      "execution_count": 90,
      "outputs": [
        {
          "output_type": "stream",
          "text": [
            "/content/sample_data/mnist_test.csv\n",
            "/content/sample_data/california_housing_train.csv\n",
            "/content/sample_data/mnist_train_small.csv\n",
            "/content/sample_data/california_housing_test.csv\n"
          ],
          "name": "stdout"
        }
      ]
    },
    {
      "cell_type": "code",
      "metadata": {
        "id": "0dzWs3TCEQti",
        "colab_type": "code",
        "colab": {}
      },
      "source": [
        "files = '/content/drive/My Drive/1/data/score_data/'\n",
        "files_list = glob.glob(files+'*.csv')"
      ],
      "execution_count": 0,
      "outputs": []
    },
    {
      "cell_type": "code",
      "metadata": {
        "id": "NYDgxvR8EzKg",
        "colab_type": "code",
        "colab": {
          "base_uri": "https://localhost:8080/",
          "height": 193
        },
        "outputId": "6535c494-8597-4534-ecc9-2d4b87b89ef7"
      },
      "source": [
        "files_list"
      ],
      "execution_count": 95,
      "outputs": [
        {
          "output_type": "execute_result",
          "data": {
            "text/plain": [
              "['/content/drive/My Drive/1/data/score_data/A 학교출신 지원자.csv',\n",
              " '/content/drive/My Drive/1/data/score_data/B 학교출신 지원자.csv',\n",
              " '/content/drive/My Drive/1/data/score_data/C 학교출신 지원자.csv',\n",
              " '/content/drive/My Drive/1/data/score_data/E 학교출신 지원자.csv',\n",
              " '/content/drive/My Drive/1/data/score_data/F 학교출신 지원자.csv',\n",
              " '/content/drive/My Drive/1/data/score_data/D 학교출신 지원자.csv',\n",
              " '/content/drive/My Drive/1/data/score_data/I 학교출신 지원자.csv',\n",
              " '/content/drive/My Drive/1/data/score_data/J 학교출신 지원자.csv',\n",
              " '/content/drive/My Drive/1/data/score_data/G 학교출신 지원자.csv',\n",
              " '/content/drive/My Drive/1/data/score_data/H 학교출신 지원자.csv']"
            ]
          },
          "metadata": {
            "tags": []
          },
          "execution_count": 95
        }
      ]
    },
    {
      "cell_type": "code",
      "metadata": {
        "id": "pRvF90PmE3jH",
        "colab_type": "code",
        "colab": {}
      },
      "source": [
        "A_data='/content/drive/My Drive/1/data/score_data/A 학교출신 지원자.csv'"
      ],
      "execution_count": 0,
      "outputs": []
    },
    {
      "cell_type": "code",
      "metadata": {
        "id": "lAKvQUTLFGnc",
        "colab_type": "code",
        "colab": {
          "base_uri": "https://localhost:8080/",
          "height": 195
        },
        "outputId": "4b7e1842-dfea-449f-b073-c683aad3ddd9"
      },
      "source": [
        "df=pd.read_csv(A_data, encoding='cp949')\n",
        "df.head()"
      ],
      "execution_count": 97,
      "outputs": [
        {
          "output_type": "execute_result",
          "data": {
            "text/html": [
              "<div>\n",
              "<style scoped>\n",
              "    .dataframe tbody tr th:only-of-type {\n",
              "        vertical-align: middle;\n",
              "    }\n",
              "\n",
              "    .dataframe tbody tr th {\n",
              "        vertical-align: top;\n",
              "    }\n",
              "\n",
              "    .dataframe thead th {\n",
              "        text-align: right;\n",
              "    }\n",
              "</style>\n",
              "<table border=\"1\" class=\"dataframe\">\n",
              "  <thead>\n",
              "    <tr style=\"text-align: right;\">\n",
              "      <th></th>\n",
              "      <th>출신고교</th>\n",
              "      <th>학번</th>\n",
              "      <th>이름</th>\n",
              "      <th>국어</th>\n",
              "      <th>수학</th>\n",
              "      <th>영어</th>\n",
              "      <th>과탐1</th>\n",
              "      <th>과탐2</th>\n",
              "    </tr>\n",
              "  </thead>\n",
              "  <tbody>\n",
              "    <tr>\n",
              "      <th>0</th>\n",
              "      <td>A</td>\n",
              "      <td>30104</td>\n",
              "      <td>조매미</td>\n",
              "      <td>70</td>\n",
              "      <td>66</td>\n",
              "      <td>78</td>\n",
              "      <td>38</td>\n",
              "      <td>42</td>\n",
              "    </tr>\n",
              "    <tr>\n",
              "      <th>1</th>\n",
              "      <td>A</td>\n",
              "      <td>30115</td>\n",
              "      <td>김개미</td>\n",
              "      <td>71</td>\n",
              "      <td>77</td>\n",
              "      <td>89</td>\n",
              "      <td>15</td>\n",
              "      <td>20</td>\n",
              "    </tr>\n",
              "    <tr>\n",
              "      <th>2</th>\n",
              "      <td>A</td>\n",
              "      <td>30117</td>\n",
              "      <td>박모기</td>\n",
              "      <td>76</td>\n",
              "      <td>55</td>\n",
              "      <td>75</td>\n",
              "      <td>35</td>\n",
              "      <td>30</td>\n",
              "    </tr>\n",
              "    <tr>\n",
              "      <th>3</th>\n",
              "      <td>A</td>\n",
              "      <td>30120</td>\n",
              "      <td>최파리</td>\n",
              "      <td>69</td>\n",
              "      <td>66</td>\n",
              "      <td>51</td>\n",
              "      <td>15</td>\n",
              "      <td>36</td>\n",
              "    </tr>\n",
              "    <tr>\n",
              "      <th>4</th>\n",
              "      <td>A</td>\n",
              "      <td>30215</td>\n",
              "      <td>정땅벌</td>\n",
              "      <td>63</td>\n",
              "      <td>20</td>\n",
              "      <td>76</td>\n",
              "      <td>15</td>\n",
              "      <td>19</td>\n",
              "    </tr>\n",
              "  </tbody>\n",
              "</table>\n",
              "</div>"
            ],
            "text/plain": [
              "  출신고교     학번   이름  국어  수학  영어  과탐1  과탐2\n",
              "0    A  30104  조매미  70  66  78   38   42\n",
              "1    A  30115  김개미  71  77  89   15   20\n",
              "2    A  30117  박모기  76  55  75   35   30\n",
              "3    A  30120  최파리  69  66  51   15   36\n",
              "4    A  30215  정땅벌  63  20  76   15   19"
            ]
          },
          "metadata": {
            "tags": []
          },
          "execution_count": 97
        }
      ]
    },
    {
      "cell_type": "markdown",
      "metadata": {
        "id": "ta5lXZ3JFgiM",
        "colab_type": "text"
      },
      "source": [
        "## **map과 list**\n",
        "\n",
        "```\n",
        "# 코드로 형식 지정됨\n",
        "```\n",
        "\n"
      ]
    },
    {
      "cell_type": "code",
      "metadata": {
        "id": "3YDnIzevFtug",
        "colab_type": "code",
        "colab": {
          "base_uri": "https://localhost:8080/",
          "height": 34
        },
        "outputId": "ec0c2d72-6be7-48c9-8f46-07ce5d48c214"
      },
      "source": [
        "a=input('숫자입력>>> ').split()"
      ],
      "execution_count": 98,
      "outputs": [
        {
          "output_type": "stream",
          "text": [
            "숫자입력>>> 12  3 4\n"
          ],
          "name": "stdout"
        }
      ]
    },
    {
      "cell_type": "code",
      "metadata": {
        "id": "JvRffhHQFy2l",
        "colab_type": "code",
        "colab": {
          "base_uri": "https://localhost:8080/",
          "height": 34
        },
        "outputId": "ad591c44-89c3-4b29-951f-8ebcdeac9ea9"
      },
      "source": [
        "type(a)"
      ],
      "execution_count": 99,
      "outputs": [
        {
          "output_type": "execute_result",
          "data": {
            "text/plain": [
              "list"
            ]
          },
          "metadata": {
            "tags": []
          },
          "execution_count": 99
        }
      ]
    },
    {
      "cell_type": "code",
      "metadata": {
        "id": "lTrF9iWpF3BQ",
        "colab_type": "code",
        "colab": {
          "base_uri": "https://localhost:8080/",
          "height": 34
        },
        "outputId": "869476c6-672f-4dd4-bdaf-f05ea4a3cbfd"
      },
      "source": [
        "list_a=list(a)\n",
        "list_a, type(list_a)"
      ],
      "execution_count": 17,
      "outputs": [
        {
          "output_type": "execute_result",
          "data": {
            "text/plain": [
              "(['1', '5', '3', '4'], list)"
            ]
          },
          "metadata": {
            "tags": []
          },
          "execution_count": 17
        }
      ]
    },
    {
      "cell_type": "code",
      "metadata": {
        "id": "RlTGY0cwHf4g",
        "colab_type": "code",
        "colab": {}
      },
      "source": [
        "list_num=list(map(int, list_a))"
      ],
      "execution_count": 0,
      "outputs": []
    },
    {
      "cell_type": "code",
      "metadata": {
        "id": "HiI0tXw0H1nQ",
        "colab_type": "code",
        "colab": {
          "base_uri": "https://localhost:8080/",
          "height": 34
        },
        "outputId": "38a43c51-c9a2-4219-edd6-aaad2f05ddad"
      },
      "source": [
        "list_num"
      ],
      "execution_count": 21,
      "outputs": [
        {
          "output_type": "execute_result",
          "data": {
            "text/plain": [
              "[1, 5, 3, 4]"
            ]
          },
          "metadata": {
            "tags": []
          },
          "execution_count": 21
        }
      ]
    },
    {
      "cell_type": "code",
      "metadata": {
        "id": "9fpXU_MvH4P4",
        "colab_type": "code",
        "colab": {
          "base_uri": "https://localhost:8080/",
          "height": 34
        },
        "outputId": "8f48c2f6-4652-49af-a79a-cdbecd4dfcd0"
      },
      "source": [
        "a=[]\n",
        "a"
      ],
      "execution_count": 100,
      "outputs": [
        {
          "output_type": "execute_result",
          "data": {
            "text/plain": [
              "[]"
            ]
          },
          "metadata": {
            "tags": []
          },
          "execution_count": 100
        }
      ]
    },
    {
      "cell_type": "code",
      "metadata": {
        "id": "P_onLo7oIJZI",
        "colab_type": "code",
        "colab": {
          "base_uri": "https://localhost:8080/",
          "height": 34
        },
        "outputId": "1b54d005-d023-4133-92fa-5173310ad101"
      },
      "source": [
        "a.append(10)\n",
        "a"
      ],
      "execution_count": 101,
      "outputs": [
        {
          "output_type": "execute_result",
          "data": {
            "text/plain": [
              "[10]"
            ]
          },
          "metadata": {
            "tags": []
          },
          "execution_count": 101
        }
      ]
    },
    {
      "cell_type": "code",
      "metadata": {
        "id": "uQ6WMw3DIHSi",
        "colab_type": "code",
        "colab": {}
      },
      "source": [
        "stu=[]\n",
        "for file in files_list:\n",
        "  data=pd.read_csv(file, encoding='cp949')\n",
        "  stu.append(data)"
      ],
      "execution_count": 0,
      "outputs": []
    },
    {
      "cell_type": "code",
      "metadata": {
        "id": "jZVI6lknJNLF",
        "colab_type": "code",
        "colab": {}
      },
      "source": [
        "stu"
      ],
      "execution_count": 0,
      "outputs": []
    },
    {
      "cell_type": "markdown",
      "metadata": {
        "id": "9DoFXGCXNOvw",
        "colab_type": "text"
      },
      "source": [
        "## **concat**\n",
        "\n",
        "```\n",
        "# concat\n",
        "```"
      ]
    },
    {
      "cell_type": "code",
      "metadata": {
        "id": "ue0WfyrANTjD",
        "colab_type": "code",
        "colab": {}
      },
      "source": [
        "a=[['a','b','c'],[10,20,30]]\n",
        "b=[['d','e','f','add'],[-3,5,7,100]]"
      ],
      "execution_count": 0,
      "outputs": []
    },
    {
      "cell_type": "code",
      "metadata": {
        "id": "QMIUHRJJN_Fr",
        "colab_type": "code",
        "colab": {
          "base_uri": "https://localhost:8080/",
          "height": 52
        },
        "outputId": "52e57de6-3e15-4472-b445-0ea50cce42bd"
      },
      "source": [
        "print(a)\n",
        "print(b)"
      ],
      "execution_count": 105,
      "outputs": [
        {
          "output_type": "stream",
          "text": [
            "[['a', 'b', 'c'], [10, 20, 30]]\n",
            "[['d', 'e', 'f', 'add'], [-3, 5, 7, 100]]\n"
          ],
          "name": "stdout"
        }
      ]
    },
    {
      "cell_type": "code",
      "metadata": {
        "id": "9dUJnfaWODa2",
        "colab_type": "code",
        "colab": {
          "base_uri": "https://localhost:8080/",
          "height": 106
        },
        "outputId": "b7ad9b06-18be-453a-f046-1830a48c4a8f"
      },
      "source": [
        "af=pd.DataFrame(a)\n",
        "af"
      ],
      "execution_count": 106,
      "outputs": [
        {
          "output_type": "execute_result",
          "data": {
            "text/html": [
              "<div>\n",
              "<style scoped>\n",
              "    .dataframe tbody tr th:only-of-type {\n",
              "        vertical-align: middle;\n",
              "    }\n",
              "\n",
              "    .dataframe tbody tr th {\n",
              "        vertical-align: top;\n",
              "    }\n",
              "\n",
              "    .dataframe thead th {\n",
              "        text-align: right;\n",
              "    }\n",
              "</style>\n",
              "<table border=\"1\" class=\"dataframe\">\n",
              "  <thead>\n",
              "    <tr style=\"text-align: right;\">\n",
              "      <th></th>\n",
              "      <th>0</th>\n",
              "      <th>1</th>\n",
              "      <th>2</th>\n",
              "    </tr>\n",
              "  </thead>\n",
              "  <tbody>\n",
              "    <tr>\n",
              "      <th>0</th>\n",
              "      <td>a</td>\n",
              "      <td>b</td>\n",
              "      <td>c</td>\n",
              "    </tr>\n",
              "    <tr>\n",
              "      <th>1</th>\n",
              "      <td>10</td>\n",
              "      <td>20</td>\n",
              "      <td>30</td>\n",
              "    </tr>\n",
              "  </tbody>\n",
              "</table>\n",
              "</div>"
            ],
            "text/plain": [
              "    0   1   2\n",
              "0   a   b   c\n",
              "1  10  20  30"
            ]
          },
          "metadata": {
            "tags": []
          },
          "execution_count": 106
        }
      ]
    },
    {
      "cell_type": "code",
      "metadata": {
        "id": "JpqP2r9IOJOQ",
        "colab_type": "code",
        "colab": {
          "base_uri": "https://localhost:8080/",
          "height": 106
        },
        "outputId": "d1e28008-0480-471f-bb69-12235807f8cd"
      },
      "source": [
        "bf=pd.DataFrame(b)\n",
        "bf"
      ],
      "execution_count": 107,
      "outputs": [
        {
          "output_type": "execute_result",
          "data": {
            "text/html": [
              "<div>\n",
              "<style scoped>\n",
              "    .dataframe tbody tr th:only-of-type {\n",
              "        vertical-align: middle;\n",
              "    }\n",
              "\n",
              "    .dataframe tbody tr th {\n",
              "        vertical-align: top;\n",
              "    }\n",
              "\n",
              "    .dataframe thead th {\n",
              "        text-align: right;\n",
              "    }\n",
              "</style>\n",
              "<table border=\"1\" class=\"dataframe\">\n",
              "  <thead>\n",
              "    <tr style=\"text-align: right;\">\n",
              "      <th></th>\n",
              "      <th>0</th>\n",
              "      <th>1</th>\n",
              "      <th>2</th>\n",
              "      <th>3</th>\n",
              "    </tr>\n",
              "  </thead>\n",
              "  <tbody>\n",
              "    <tr>\n",
              "      <th>0</th>\n",
              "      <td>d</td>\n",
              "      <td>e</td>\n",
              "      <td>f</td>\n",
              "      <td>add</td>\n",
              "    </tr>\n",
              "    <tr>\n",
              "      <th>1</th>\n",
              "      <td>-3</td>\n",
              "      <td>5</td>\n",
              "      <td>7</td>\n",
              "      <td>100</td>\n",
              "    </tr>\n",
              "  </tbody>\n",
              "</table>\n",
              "</div>"
            ],
            "text/plain": [
              "    0  1  2    3\n",
              "0   d  e  f  add\n",
              "1  -3  5  7  100"
            ]
          },
          "metadata": {
            "tags": []
          },
          "execution_count": 107
        }
      ]
    },
    {
      "cell_type": "code",
      "metadata": {
        "id": "_CEj8g4JOnvR",
        "colab_type": "code",
        "colab": {}
      },
      "source": [
        "af.columns=['A','B','C']\n",
        "bf.columns=['A','B','C','D']"
      ],
      "execution_count": 0,
      "outputs": []
    },
    {
      "cell_type": "code",
      "metadata": {
        "id": "H2K5Y75BPN7G",
        "colab_type": "code",
        "colab": {
          "base_uri": "https://localhost:8080/",
          "height": 106
        },
        "outputId": "367fb0e8-3ad6-4cf8-daad-6ae476bcd034"
      },
      "source": [
        "af"
      ],
      "execution_count": 111,
      "outputs": [
        {
          "output_type": "execute_result",
          "data": {
            "text/html": [
              "<div>\n",
              "<style scoped>\n",
              "    .dataframe tbody tr th:only-of-type {\n",
              "        vertical-align: middle;\n",
              "    }\n",
              "\n",
              "    .dataframe tbody tr th {\n",
              "        vertical-align: top;\n",
              "    }\n",
              "\n",
              "    .dataframe thead th {\n",
              "        text-align: right;\n",
              "    }\n",
              "</style>\n",
              "<table border=\"1\" class=\"dataframe\">\n",
              "  <thead>\n",
              "    <tr style=\"text-align: right;\">\n",
              "      <th></th>\n",
              "      <th>A</th>\n",
              "      <th>B</th>\n",
              "      <th>C</th>\n",
              "    </tr>\n",
              "  </thead>\n",
              "  <tbody>\n",
              "    <tr>\n",
              "      <th>0</th>\n",
              "      <td>a</td>\n",
              "      <td>b</td>\n",
              "      <td>c</td>\n",
              "    </tr>\n",
              "    <tr>\n",
              "      <th>1</th>\n",
              "      <td>10</td>\n",
              "      <td>20</td>\n",
              "      <td>30</td>\n",
              "    </tr>\n",
              "  </tbody>\n",
              "</table>\n",
              "</div>"
            ],
            "text/plain": [
              "    A   B   C\n",
              "0   a   b   c\n",
              "1  10  20  30"
            ]
          },
          "metadata": {
            "tags": []
          },
          "execution_count": 111
        }
      ]
    },
    {
      "cell_type": "code",
      "metadata": {
        "id": "hSzpQoaFPXMw",
        "colab_type": "code",
        "colab": {
          "base_uri": "https://localhost:8080/",
          "height": 106
        },
        "outputId": "ae5299be-3b0f-4eda-ecba-a988691d3913"
      },
      "source": [
        "bf"
      ],
      "execution_count": 112,
      "outputs": [
        {
          "output_type": "execute_result",
          "data": {
            "text/html": [
              "<div>\n",
              "<style scoped>\n",
              "    .dataframe tbody tr th:only-of-type {\n",
              "        vertical-align: middle;\n",
              "    }\n",
              "\n",
              "    .dataframe tbody tr th {\n",
              "        vertical-align: top;\n",
              "    }\n",
              "\n",
              "    .dataframe thead th {\n",
              "        text-align: right;\n",
              "    }\n",
              "</style>\n",
              "<table border=\"1\" class=\"dataframe\">\n",
              "  <thead>\n",
              "    <tr style=\"text-align: right;\">\n",
              "      <th></th>\n",
              "      <th>A</th>\n",
              "      <th>B</th>\n",
              "      <th>C</th>\n",
              "      <th>D</th>\n",
              "    </tr>\n",
              "  </thead>\n",
              "  <tbody>\n",
              "    <tr>\n",
              "      <th>0</th>\n",
              "      <td>d</td>\n",
              "      <td>e</td>\n",
              "      <td>f</td>\n",
              "      <td>add</td>\n",
              "    </tr>\n",
              "    <tr>\n",
              "      <th>1</th>\n",
              "      <td>-3</td>\n",
              "      <td>5</td>\n",
              "      <td>7</td>\n",
              "      <td>100</td>\n",
              "    </tr>\n",
              "  </tbody>\n",
              "</table>\n",
              "</div>"
            ],
            "text/plain": [
              "    A  B  C    D\n",
              "0   d  e  f  add\n",
              "1  -3  5  7  100"
            ]
          },
          "metadata": {
            "tags": []
          },
          "execution_count": 112
        }
      ]
    },
    {
      "cell_type": "code",
      "metadata": {
        "id": "GFB55-0ePXy5",
        "colab_type": "code",
        "colab": {}
      },
      "source": [
        "hap=pd.concat([af,bf]) "
      ],
      "execution_count": 0,
      "outputs": []
    },
    {
      "cell_type": "code",
      "metadata": {
        "id": "iy2hIduxPr2Z",
        "colab_type": "code",
        "colab": {}
      },
      "source": [
        "hap.index=[1,2,3,4]"
      ],
      "execution_count": 0,
      "outputs": []
    },
    {
      "cell_type": "code",
      "metadata": {
        "id": "H68YDOzZPt7O",
        "colab_type": "code",
        "colab": {
          "base_uri": "https://localhost:8080/",
          "height": 166
        },
        "outputId": "4ddab8f0-2dbc-4082-f109-ccc0d7dde82f"
      },
      "source": [
        "hap"
      ],
      "execution_count": 115,
      "outputs": [
        {
          "output_type": "execute_result",
          "data": {
            "text/html": [
              "<div>\n",
              "<style scoped>\n",
              "    .dataframe tbody tr th:only-of-type {\n",
              "        vertical-align: middle;\n",
              "    }\n",
              "\n",
              "    .dataframe tbody tr th {\n",
              "        vertical-align: top;\n",
              "    }\n",
              "\n",
              "    .dataframe thead th {\n",
              "        text-align: right;\n",
              "    }\n",
              "</style>\n",
              "<table border=\"1\" class=\"dataframe\">\n",
              "  <thead>\n",
              "    <tr style=\"text-align: right;\">\n",
              "      <th></th>\n",
              "      <th>A</th>\n",
              "      <th>B</th>\n",
              "      <th>C</th>\n",
              "      <th>D</th>\n",
              "    </tr>\n",
              "  </thead>\n",
              "  <tbody>\n",
              "    <tr>\n",
              "      <th>1</th>\n",
              "      <td>a</td>\n",
              "      <td>b</td>\n",
              "      <td>c</td>\n",
              "      <td>NaN</td>\n",
              "    </tr>\n",
              "    <tr>\n",
              "      <th>2</th>\n",
              "      <td>10</td>\n",
              "      <td>20</td>\n",
              "      <td>30</td>\n",
              "      <td>NaN</td>\n",
              "    </tr>\n",
              "    <tr>\n",
              "      <th>3</th>\n",
              "      <td>d</td>\n",
              "      <td>e</td>\n",
              "      <td>f</td>\n",
              "      <td>add</td>\n",
              "    </tr>\n",
              "    <tr>\n",
              "      <th>4</th>\n",
              "      <td>-3</td>\n",
              "      <td>5</td>\n",
              "      <td>7</td>\n",
              "      <td>100</td>\n",
              "    </tr>\n",
              "  </tbody>\n",
              "</table>\n",
              "</div>"
            ],
            "text/plain": [
              "    A   B   C    D\n",
              "1   a   b   c  NaN\n",
              "2  10  20  30  NaN\n",
              "3   d   e   f  add\n",
              "4  -3   5   7  100"
            ]
          },
          "metadata": {
            "tags": []
          },
          "execution_count": 115
        }
      ]
    },
    {
      "cell_type": "code",
      "metadata": {
        "id": "6chDYbTDQNPO",
        "colab_type": "code",
        "colab": {}
      },
      "source": [
        "df=pd.concat(stu)\n",
        "df.tail"
      ],
      "execution_count": 0,
      "outputs": []
    },
    {
      "cell_type": "code",
      "metadata": {
        "id": "Yjq0xtfInu0Q",
        "colab_type": "code",
        "colab": {}
      },
      "source": [
        "df.index=range(1,310)"
      ],
      "execution_count": 0,
      "outputs": []
    },
    {
      "cell_type": "code",
      "metadata": {
        "id": "oVEJ_b9-n3Z1",
        "colab_type": "code",
        "colab": {
          "base_uri": "https://localhost:8080/",
          "height": 195
        },
        "outputId": "85f1a0e1-faa0-4766-87ca-a6d9fb17e22a"
      },
      "source": [
        "df.tail()"
      ],
      "execution_count": 122,
      "outputs": [
        {
          "output_type": "execute_result",
          "data": {
            "text/html": [
              "<div>\n",
              "<style scoped>\n",
              "    .dataframe tbody tr th:only-of-type {\n",
              "        vertical-align: middle;\n",
              "    }\n",
              "\n",
              "    .dataframe tbody tr th {\n",
              "        vertical-align: top;\n",
              "    }\n",
              "\n",
              "    .dataframe thead th {\n",
              "        text-align: right;\n",
              "    }\n",
              "</style>\n",
              "<table border=\"1\" class=\"dataframe\">\n",
              "  <thead>\n",
              "    <tr style=\"text-align: right;\">\n",
              "      <th></th>\n",
              "      <th>출신고교</th>\n",
              "      <th>학번</th>\n",
              "      <th>이름</th>\n",
              "      <th>국어</th>\n",
              "      <th>수학</th>\n",
              "      <th>영어</th>\n",
              "      <th>과탐1</th>\n",
              "      <th>과탐2</th>\n",
              "    </tr>\n",
              "  </thead>\n",
              "  <tbody>\n",
              "    <tr>\n",
              "      <th>305</th>\n",
              "      <td>H</td>\n",
              "      <td>30828</td>\n",
              "      <td>수애</td>\n",
              "      <td>87</td>\n",
              "      <td>55</td>\n",
              "      <td>55</td>\n",
              "      <td>50</td>\n",
              "      <td>50</td>\n",
              "    </tr>\n",
              "    <tr>\n",
              "      <th>306</th>\n",
              "      <td>H</td>\n",
              "      <td>30829</td>\n",
              "      <td>유지인</td>\n",
              "      <td>74</td>\n",
              "      <td>53</td>\n",
              "      <td>59</td>\n",
              "      <td>26</td>\n",
              "      <td>40</td>\n",
              "    </tr>\n",
              "    <tr>\n",
              "      <th>307</th>\n",
              "      <td>H</td>\n",
              "      <td>30731</td>\n",
              "      <td>윤정희</td>\n",
              "      <td>85</td>\n",
              "      <td>83</td>\n",
              "      <td>86</td>\n",
              "      <td>41</td>\n",
              "      <td>41</td>\n",
              "    </tr>\n",
              "    <tr>\n",
              "      <th>308</th>\n",
              "      <td>H</td>\n",
              "      <td>30732</td>\n",
              "      <td>이민정</td>\n",
              "      <td>58</td>\n",
              "      <td>32</td>\n",
              "      <td>67</td>\n",
              "      <td>14</td>\n",
              "      <td>12</td>\n",
              "    </tr>\n",
              "    <tr>\n",
              "      <th>309</th>\n",
              "      <td>H</td>\n",
              "      <td>30733</td>\n",
              "      <td>이영자</td>\n",
              "      <td>79</td>\n",
              "      <td>62</td>\n",
              "      <td>98</td>\n",
              "      <td>27</td>\n",
              "      <td>15</td>\n",
              "    </tr>\n",
              "  </tbody>\n",
              "</table>\n",
              "</div>"
            ],
            "text/plain": [
              "    출신고교     학번   이름  국어  수학  영어  과탐1  과탐2\n",
              "305    H  30828   수애  87  55  55   50   50\n",
              "306    H  30829  유지인  74  53  59   26   40\n",
              "307    H  30731  윤정희  85  83  86   41   41\n",
              "308    H  30732  이민정  58  32  67   14   12\n",
              "309    H  30733  이영자  79  62  98   27   15"
            ]
          },
          "metadata": {
            "tags": []
          },
          "execution_count": 122
        }
      ]
    },
    {
      "cell_type": "code",
      "metadata": {
        "id": "CaOuoEEen8yi",
        "colab_type": "code",
        "colab": {
          "base_uri": "https://localhost:8080/",
          "height": 343
        },
        "outputId": "5e992577-b207-4d8e-cc1b-32bf83d7daf7"
      },
      "source": [
        "df[47:57]"
      ],
      "execution_count": 124,
      "outputs": [
        {
          "output_type": "execute_result",
          "data": {
            "text/html": [
              "<div>\n",
              "<style scoped>\n",
              "    .dataframe tbody tr th:only-of-type {\n",
              "        vertical-align: middle;\n",
              "    }\n",
              "\n",
              "    .dataframe tbody tr th {\n",
              "        vertical-align: top;\n",
              "    }\n",
              "\n",
              "    .dataframe thead th {\n",
              "        text-align: right;\n",
              "    }\n",
              "</style>\n",
              "<table border=\"1\" class=\"dataframe\">\n",
              "  <thead>\n",
              "    <tr style=\"text-align: right;\">\n",
              "      <th></th>\n",
              "      <th>출신고교</th>\n",
              "      <th>학번</th>\n",
              "      <th>이름</th>\n",
              "      <th>국어</th>\n",
              "      <th>수학</th>\n",
              "      <th>영어</th>\n",
              "      <th>과탐1</th>\n",
              "      <th>과탐2</th>\n",
              "    </tr>\n",
              "  </thead>\n",
              "  <tbody>\n",
              "    <tr>\n",
              "      <th>48</th>\n",
              "      <td>B</td>\n",
              "      <td>30518</td>\n",
              "      <td>강제비</td>\n",
              "      <td>64</td>\n",
              "      <td>59</td>\n",
              "      <td>86</td>\n",
              "      <td>21</td>\n",
              "      <td>19</td>\n",
              "    </tr>\n",
              "    <tr>\n",
              "      <th>49</th>\n",
              "      <td>B</td>\n",
              "      <td>30606</td>\n",
              "      <td>조멧새</td>\n",
              "      <td>84</td>\n",
              "      <td>55</td>\n",
              "      <td>86</td>\n",
              "      <td>22</td>\n",
              "      <td>29</td>\n",
              "    </tr>\n",
              "    <tr>\n",
              "      <th>50</th>\n",
              "      <td>B</td>\n",
              "      <td>30611</td>\n",
              "      <td>윤원앙</td>\n",
              "      <td>84</td>\n",
              "      <td>70</td>\n",
              "      <td>54</td>\n",
              "      <td>38</td>\n",
              "      <td>30</td>\n",
              "    </tr>\n",
              "    <tr>\n",
              "      <th>51</th>\n",
              "      <td>B</td>\n",
              "      <td>30619</td>\n",
              "      <td>장잉꼬</td>\n",
              "      <td>91</td>\n",
              "      <td>69</td>\n",
              "      <td>76</td>\n",
              "      <td>34</td>\n",
              "      <td>37</td>\n",
              "    </tr>\n",
              "    <tr>\n",
              "      <th>52</th>\n",
              "      <td>B</td>\n",
              "      <td>30627</td>\n",
              "      <td>임솔개</td>\n",
              "      <td>37</td>\n",
              "      <td>9</td>\n",
              "      <td>10</td>\n",
              "      <td>20</td>\n",
              "      <td>15</td>\n",
              "    </tr>\n",
              "    <tr>\n",
              "      <th>53</th>\n",
              "      <td>B</td>\n",
              "      <td>30704</td>\n",
              "      <td>심황태</td>\n",
              "      <td>79</td>\n",
              "      <td>77</td>\n",
              "      <td>91</td>\n",
              "      <td>39</td>\n",
              "      <td>47</td>\n",
              "    </tr>\n",
              "    <tr>\n",
              "      <th>54</th>\n",
              "      <td>B</td>\n",
              "      <td>30710</td>\n",
              "      <td>노도미</td>\n",
              "      <td>77</td>\n",
              "      <td>17</td>\n",
              "      <td>47</td>\n",
              "      <td>41</td>\n",
              "      <td>39</td>\n",
              "    </tr>\n",
              "    <tr>\n",
              "      <th>55</th>\n",
              "      <td>B</td>\n",
              "      <td>30714</td>\n",
              "      <td>정농어</td>\n",
              "      <td>59</td>\n",
              "      <td>76</td>\n",
              "      <td>61</td>\n",
              "      <td>26</td>\n",
              "      <td>23</td>\n",
              "    </tr>\n",
              "    <tr>\n",
              "      <th>56</th>\n",
              "      <td>C</td>\n",
              "      <td>30110</td>\n",
              "      <td>강동원</td>\n",
              "      <td>69</td>\n",
              "      <td>40</td>\n",
              "      <td>68</td>\n",
              "      <td>34</td>\n",
              "      <td>19</td>\n",
              "    </tr>\n",
              "    <tr>\n",
              "      <th>57</th>\n",
              "      <td>C</td>\n",
              "      <td>30115</td>\n",
              "      <td>강문영</td>\n",
              "      <td>59</td>\n",
              "      <td>70</td>\n",
              "      <td>73</td>\n",
              "      <td>23</td>\n",
              "      <td>29</td>\n",
              "    </tr>\n",
              "  </tbody>\n",
              "</table>\n",
              "</div>"
            ],
            "text/plain": [
              "   출신고교     학번   이름  국어  수학  영어  과탐1  과탐2\n",
              "48    B  30518  강제비  64  59  86   21   19\n",
              "49    B  30606  조멧새  84  55  86   22   29\n",
              "50    B  30611  윤원앙  84  70  54   38   30\n",
              "51    B  30619  장잉꼬  91  69  76   34   37\n",
              "52    B  30627  임솔개  37   9  10   20   15\n",
              "53    B  30704  심황태  79  77  91   39   47\n",
              "54    B  30710  노도미  77  17  47   41   39\n",
              "55    B  30714  정농어  59  76  61   26   23\n",
              "56    C  30110  강동원  69  40  68   34   19\n",
              "57    C  30115  강문영  59  70  73   23   29"
            ]
          },
          "metadata": {
            "tags": []
          },
          "execution_count": 124
        }
      ]
    },
    {
      "cell_type": "code",
      "metadata": {
        "id": "4ptfxW5kRbR_",
        "colab_type": "code",
        "colab": {
          "base_uri": "https://localhost:8080/",
          "height": 402
        },
        "outputId": "50e63e51-74c4-448b-eccb-81c61ae4b5bf"
      },
      "source": [
        "df['변환점수'] = df['국어']*0.2+df['수학']*0.4+(df['과탐1']+df['과탐2'])*0.4\n",
        "df"
      ],
      "execution_count": 125,
      "outputs": [
        {
          "output_type": "execute_result",
          "data": {
            "text/html": [
              "<div>\n",
              "<style scoped>\n",
              "    .dataframe tbody tr th:only-of-type {\n",
              "        vertical-align: middle;\n",
              "    }\n",
              "\n",
              "    .dataframe tbody tr th {\n",
              "        vertical-align: top;\n",
              "    }\n",
              "\n",
              "    .dataframe thead th {\n",
              "        text-align: right;\n",
              "    }\n",
              "</style>\n",
              "<table border=\"1\" class=\"dataframe\">\n",
              "  <thead>\n",
              "    <tr style=\"text-align: right;\">\n",
              "      <th></th>\n",
              "      <th>출신고교</th>\n",
              "      <th>학번</th>\n",
              "      <th>이름</th>\n",
              "      <th>국어</th>\n",
              "      <th>수학</th>\n",
              "      <th>영어</th>\n",
              "      <th>과탐1</th>\n",
              "      <th>과탐2</th>\n",
              "      <th>변환점수</th>\n",
              "    </tr>\n",
              "  </thead>\n",
              "  <tbody>\n",
              "    <tr>\n",
              "      <th>1</th>\n",
              "      <td>A</td>\n",
              "      <td>30104</td>\n",
              "      <td>조매미</td>\n",
              "      <td>70</td>\n",
              "      <td>66</td>\n",
              "      <td>78</td>\n",
              "      <td>38</td>\n",
              "      <td>42</td>\n",
              "      <td>72.4</td>\n",
              "    </tr>\n",
              "    <tr>\n",
              "      <th>2</th>\n",
              "      <td>A</td>\n",
              "      <td>30115</td>\n",
              "      <td>김개미</td>\n",
              "      <td>71</td>\n",
              "      <td>77</td>\n",
              "      <td>89</td>\n",
              "      <td>15</td>\n",
              "      <td>20</td>\n",
              "      <td>59.0</td>\n",
              "    </tr>\n",
              "    <tr>\n",
              "      <th>3</th>\n",
              "      <td>A</td>\n",
              "      <td>30117</td>\n",
              "      <td>박모기</td>\n",
              "      <td>76</td>\n",
              "      <td>55</td>\n",
              "      <td>75</td>\n",
              "      <td>35</td>\n",
              "      <td>30</td>\n",
              "      <td>63.2</td>\n",
              "    </tr>\n",
              "    <tr>\n",
              "      <th>4</th>\n",
              "      <td>A</td>\n",
              "      <td>30120</td>\n",
              "      <td>최파리</td>\n",
              "      <td>69</td>\n",
              "      <td>66</td>\n",
              "      <td>51</td>\n",
              "      <td>15</td>\n",
              "      <td>36</td>\n",
              "      <td>60.6</td>\n",
              "    </tr>\n",
              "    <tr>\n",
              "      <th>5</th>\n",
              "      <td>A</td>\n",
              "      <td>30215</td>\n",
              "      <td>정땅벌</td>\n",
              "      <td>63</td>\n",
              "      <td>20</td>\n",
              "      <td>76</td>\n",
              "      <td>15</td>\n",
              "      <td>19</td>\n",
              "      <td>34.2</td>\n",
              "    </tr>\n",
              "    <tr>\n",
              "      <th>...</th>\n",
              "      <td>...</td>\n",
              "      <td>...</td>\n",
              "      <td>...</td>\n",
              "      <td>...</td>\n",
              "      <td>...</td>\n",
              "      <td>...</td>\n",
              "      <td>...</td>\n",
              "      <td>...</td>\n",
              "      <td>...</td>\n",
              "    </tr>\n",
              "    <tr>\n",
              "      <th>305</th>\n",
              "      <td>H</td>\n",
              "      <td>30828</td>\n",
              "      <td>수애</td>\n",
              "      <td>87</td>\n",
              "      <td>55</td>\n",
              "      <td>55</td>\n",
              "      <td>50</td>\n",
              "      <td>50</td>\n",
              "      <td>79.4</td>\n",
              "    </tr>\n",
              "    <tr>\n",
              "      <th>306</th>\n",
              "      <td>H</td>\n",
              "      <td>30829</td>\n",
              "      <td>유지인</td>\n",
              "      <td>74</td>\n",
              "      <td>53</td>\n",
              "      <td>59</td>\n",
              "      <td>26</td>\n",
              "      <td>40</td>\n",
              "      <td>62.4</td>\n",
              "    </tr>\n",
              "    <tr>\n",
              "      <th>307</th>\n",
              "      <td>H</td>\n",
              "      <td>30731</td>\n",
              "      <td>윤정희</td>\n",
              "      <td>85</td>\n",
              "      <td>83</td>\n",
              "      <td>86</td>\n",
              "      <td>41</td>\n",
              "      <td>41</td>\n",
              "      <td>83.0</td>\n",
              "    </tr>\n",
              "    <tr>\n",
              "      <th>308</th>\n",
              "      <td>H</td>\n",
              "      <td>30732</td>\n",
              "      <td>이민정</td>\n",
              "      <td>58</td>\n",
              "      <td>32</td>\n",
              "      <td>67</td>\n",
              "      <td>14</td>\n",
              "      <td>12</td>\n",
              "      <td>34.8</td>\n",
              "    </tr>\n",
              "    <tr>\n",
              "      <th>309</th>\n",
              "      <td>H</td>\n",
              "      <td>30733</td>\n",
              "      <td>이영자</td>\n",
              "      <td>79</td>\n",
              "      <td>62</td>\n",
              "      <td>98</td>\n",
              "      <td>27</td>\n",
              "      <td>15</td>\n",
              "      <td>57.4</td>\n",
              "    </tr>\n",
              "  </tbody>\n",
              "</table>\n",
              "<p>309 rows × 9 columns</p>\n",
              "</div>"
            ],
            "text/plain": [
              "    출신고교     학번   이름  국어  수학  영어  과탐1  과탐2  변환점수\n",
              "1      A  30104  조매미  70  66  78   38   42  72.4\n",
              "2      A  30115  김개미  71  77  89   15   20  59.0\n",
              "3      A  30117  박모기  76  55  75   35   30  63.2\n",
              "4      A  30120  최파리  69  66  51   15   36  60.6\n",
              "5      A  30215  정땅벌  63  20  76   15   19  34.2\n",
              "..   ...    ...  ...  ..  ..  ..  ...  ...   ...\n",
              "305    H  30828   수애  87  55  55   50   50  79.4\n",
              "306    H  30829  유지인  74  53  59   26   40  62.4\n",
              "307    H  30731  윤정희  85  83  86   41   41  83.0\n",
              "308    H  30732  이민정  58  32  67   14   12  34.8\n",
              "309    H  30733  이영자  79  62  98   27   15  57.4\n",
              "\n",
              "[309 rows x 9 columns]"
            ]
          },
          "metadata": {
            "tags": []
          },
          "execution_count": 125
        }
      ]
    },
    {
      "cell_type": "code",
      "metadata": {
        "id": "2OQeVu3DR_w1",
        "colab_type": "code",
        "colab": {}
      },
      "source": [
        "df['합격']=df['변환점수']>70"
      ],
      "execution_count": 0,
      "outputs": []
    },
    {
      "cell_type": "code",
      "metadata": {
        "id": "ADu1L8XnSm42",
        "colab_type": "code",
        "colab": {
          "base_uri": "https://localhost:8080/",
          "height": 228
        },
        "outputId": "acbae99e-34c6-43eb-ec06-ca261d60b6ca"
      },
      "source": [
        "df['합격']"
      ],
      "execution_count": 127,
      "outputs": [
        {
          "output_type": "execute_result",
          "data": {
            "text/plain": [
              "1       True\n",
              "2      False\n",
              "3      False\n",
              "4      False\n",
              "5      False\n",
              "       ...  \n",
              "305     True\n",
              "306    False\n",
              "307     True\n",
              "308    False\n",
              "309    False\n",
              "Name: 합격, Length: 309, dtype: bool"
            ]
          },
          "metadata": {
            "tags": []
          },
          "execution_count": 127
        }
      ]
    },
    {
      "cell_type": "code",
      "metadata": {
        "id": "ZqKHFwyHSoBl",
        "colab_type": "code",
        "colab": {
          "base_uri": "https://localhost:8080/",
          "height": 343
        },
        "outputId": "67427525-9e2d-4731-bc53-e8cb7660086f"
      },
      "source": [
        "df.sort_values('변환점수', ascending=False).head(10)"
      ],
      "execution_count": 128,
      "outputs": [
        {
          "output_type": "execute_result",
          "data": {
            "text/html": [
              "<div>\n",
              "<style scoped>\n",
              "    .dataframe tbody tr th:only-of-type {\n",
              "        vertical-align: middle;\n",
              "    }\n",
              "\n",
              "    .dataframe tbody tr th {\n",
              "        vertical-align: top;\n",
              "    }\n",
              "\n",
              "    .dataframe thead th {\n",
              "        text-align: right;\n",
              "    }\n",
              "</style>\n",
              "<table border=\"1\" class=\"dataframe\">\n",
              "  <thead>\n",
              "    <tr style=\"text-align: right;\">\n",
              "      <th></th>\n",
              "      <th>출신고교</th>\n",
              "      <th>학번</th>\n",
              "      <th>이름</th>\n",
              "      <th>국어</th>\n",
              "      <th>수학</th>\n",
              "      <th>영어</th>\n",
              "      <th>과탐1</th>\n",
              "      <th>과탐2</th>\n",
              "      <th>변환점수</th>\n",
              "      <th>합격</th>\n",
              "    </tr>\n",
              "  </thead>\n",
              "  <tbody>\n",
              "    <tr>\n",
              "      <th>285</th>\n",
              "      <td>H</td>\n",
              "      <td>30808</td>\n",
              "      <td>신동엽</td>\n",
              "      <td>87</td>\n",
              "      <td>92</td>\n",
              "      <td>89</td>\n",
              "      <td>50</td>\n",
              "      <td>49</td>\n",
              "      <td>93.8</td>\n",
              "      <td>True</td>\n",
              "    </tr>\n",
              "    <tr>\n",
              "      <th>267</th>\n",
              "      <td>G</td>\n",
              "      <td>30722</td>\n",
              "      <td>하지원</td>\n",
              "      <td>98</td>\n",
              "      <td>94</td>\n",
              "      <td>91</td>\n",
              "      <td>45</td>\n",
              "      <td>45</td>\n",
              "      <td>93.2</td>\n",
              "      <td>True</td>\n",
              "    </tr>\n",
              "    <tr>\n",
              "      <th>209</th>\n",
              "      <td>I</td>\n",
              "      <td>30812</td>\n",
              "      <td>김거북</td>\n",
              "      <td>80</td>\n",
              "      <td>93</td>\n",
              "      <td>90</td>\n",
              "      <td>49</td>\n",
              "      <td>50</td>\n",
              "      <td>92.8</td>\n",
              "      <td>True</td>\n",
              "    </tr>\n",
              "    <tr>\n",
              "      <th>44</th>\n",
              "      <td>B</td>\n",
              "      <td>30419</td>\n",
              "      <td>정타조</td>\n",
              "      <td>100</td>\n",
              "      <td>85</td>\n",
              "      <td>85</td>\n",
              "      <td>46</td>\n",
              "      <td>46</td>\n",
              "      <td>90.8</td>\n",
              "      <td>True</td>\n",
              "    </tr>\n",
              "    <tr>\n",
              "      <th>82</th>\n",
              "      <td>C</td>\n",
              "      <td>30805</td>\n",
              "      <td>지상렬</td>\n",
              "      <td>92</td>\n",
              "      <td>96</td>\n",
              "      <td>69</td>\n",
              "      <td>47</td>\n",
              "      <td>38</td>\n",
              "      <td>90.8</td>\n",
              "      <td>True</td>\n",
              "    </tr>\n",
              "    <tr>\n",
              "      <th>134</th>\n",
              "      <td>F</td>\n",
              "      <td>30406</td>\n",
              "      <td>김병만</td>\n",
              "      <td>84</td>\n",
              "      <td>96</td>\n",
              "      <td>79</td>\n",
              "      <td>42</td>\n",
              "      <td>45</td>\n",
              "      <td>90.0</td>\n",
              "      <td>True</td>\n",
              "    </tr>\n",
              "    <tr>\n",
              "      <th>164</th>\n",
              "      <td>D</td>\n",
              "      <td>30420</td>\n",
              "      <td>장미희</td>\n",
              "      <td>97</td>\n",
              "      <td>88</td>\n",
              "      <td>86</td>\n",
              "      <td>44</td>\n",
              "      <td>44</td>\n",
              "      <td>89.8</td>\n",
              "      <td>True</td>\n",
              "    </tr>\n",
              "    <tr>\n",
              "      <th>234</th>\n",
              "      <td>J</td>\n",
              "      <td>30720</td>\n",
              "      <td>이승우</td>\n",
              "      <td>98</td>\n",
              "      <td>88</td>\n",
              "      <td>89</td>\n",
              "      <td>37</td>\n",
              "      <td>50</td>\n",
              "      <td>89.6</td>\n",
              "      <td>True</td>\n",
              "    </tr>\n",
              "    <tr>\n",
              "      <th>215</th>\n",
              "      <td>J</td>\n",
              "      <td>30116</td>\n",
              "      <td>전이경</td>\n",
              "      <td>96</td>\n",
              "      <td>88</td>\n",
              "      <td>78</td>\n",
              "      <td>38</td>\n",
              "      <td>49</td>\n",
              "      <td>89.2</td>\n",
              "      <td>True</td>\n",
              "    </tr>\n",
              "    <tr>\n",
              "      <th>218</th>\n",
              "      <td>J</td>\n",
              "      <td>30227</td>\n",
              "      <td>조윤정</td>\n",
              "      <td>88</td>\n",
              "      <td>88</td>\n",
              "      <td>80</td>\n",
              "      <td>44</td>\n",
              "      <td>47</td>\n",
              "      <td>89.2</td>\n",
              "      <td>True</td>\n",
              "    </tr>\n",
              "  </tbody>\n",
              "</table>\n",
              "</div>"
            ],
            "text/plain": [
              "    출신고교     학번   이름   국어  수학  영어  과탐1  과탐2  변환점수    합격\n",
              "285    H  30808  신동엽   87  92  89   50   49  93.8  True\n",
              "267    G  30722  하지원   98  94  91   45   45  93.2  True\n",
              "209    I  30812  김거북   80  93  90   49   50  92.8  True\n",
              "44     B  30419  정타조  100  85  85   46   46  90.8  True\n",
              "82     C  30805  지상렬   92  96  69   47   38  90.8  True\n",
              "134    F  30406  김병만   84  96  79   42   45  90.0  True\n",
              "164    D  30420  장미희   97  88  86   44   44  89.8  True\n",
              "234    J  30720  이승우   98  88  89   37   50  89.6  True\n",
              "215    J  30116  전이경   96  88  78   38   49  89.2  True\n",
              "218    J  30227  조윤정   88  88  80   44   47  89.2  True"
            ]
          },
          "metadata": {
            "tags": []
          },
          "execution_count": 128
        }
      ]
    }
  ]
}