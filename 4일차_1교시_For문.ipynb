{
  "nbformat": 4,
  "nbformat_minor": 0,
  "metadata": {
    "colab": {
      "name": "4일차_1교시_For문.ipynb",
      "provenance": [],
      "collapsed_sections": [],
      "authorship_tag": "ABX9TyM0+hH4/SKz5WY40tus3hT6",
      "include_colab_link": true
    },
    "kernelspec": {
      "name": "python3",
      "display_name": "Python 3"
    }
  },
  "cells": [
    {
      "cell_type": "markdown",
      "metadata": {
        "id": "view-in-github",
        "colab_type": "text"
      },
      "source": [
        "<a href=\"https://colab.research.google.com/github/jiyoumin/Python/blob/master/4%EC%9D%BC%EC%B0%A8_1%EA%B5%90%EC%8B%9C_For%EB%AC%B8.ipynb\" target=\"_parent\"><img src=\"https://colab.research.google.com/assets/colab-badge.svg\" alt=\"Open In Colab\"/></a>"
      ]
    },
    {
      "cell_type": "markdown",
      "metadata": {
        "id": "mYvsx2WC7p8n",
        "colab_type": "text"
      },
      "source": [
        "**[학습목표]**\n",
        "\n",
        "\n",
        "1. list. Ramg\n",
        "2. For문\n",
        "---"
      ]
    },
    {
      "cell_type": "code",
      "metadata": {
        "id": "-ERCq7IR8ADf",
        "colab_type": "code",
        "colab": {
          "base_uri": "https://localhost:8080/",
          "height": 35
        },
        "outputId": "0af38e61-c2ec-44a0-d589-a97937f95476"
      },
      "source": [
        "range(5)"
      ],
      "execution_count": 1,
      "outputs": [
        {
          "output_type": "execute_result",
          "data": {
            "text/plain": [
              "range(0, 5)"
            ]
          },
          "metadata": {
            "tags": []
          },
          "execution_count": 1
        }
      ]
    },
    {
      "cell_type": "code",
      "metadata": {
        "id": "4wUn6hlp8Jeq",
        "colab_type": "code",
        "colab": {
          "base_uri": "https://localhost:8080/",
          "height": 35
        },
        "outputId": "0a7028ba-49b2-4209-eb49-c19b2ef7ea61"
      },
      "source": [
        "a = list(range(1,6))\n",
        "a"
      ],
      "execution_count": 4,
      "outputs": [
        {
          "output_type": "execute_result",
          "data": {
            "text/plain": [
              "[1, 2, 3, 4, 5]"
            ]
          },
          "metadata": {
            "tags": []
          },
          "execution_count": 4
        }
      ]
    },
    {
      "cell_type": "code",
      "metadata": {
        "id": "okeZz2Ce8oSE",
        "colab_type": "code",
        "colab": {
          "base_uri": "https://localhost:8080/",
          "height": 35
        },
        "outputId": "376e1c28-acaf-42c2-9c0e-2d8fa1c48178"
      },
      "source": [
        "type(a)"
      ],
      "execution_count": 5,
      "outputs": [
        {
          "output_type": "execute_result",
          "data": {
            "text/plain": [
              "list"
            ]
          },
          "metadata": {
            "tags": []
          },
          "execution_count": 5
        }
      ]
    },
    {
      "cell_type": "code",
      "metadata": {
        "id": "eHTeL9VF9DSM",
        "colab_type": "code",
        "colab": {
          "base_uri": "https://localhost:8080/",
          "height": 35
        },
        "outputId": "c0cd25fd-2cca-4773-dd11-7a7e75aed115"
      },
      "source": [
        "for i in range(1, 11) :\n",
        "  print(i, end=' ')"
      ],
      "execution_count": 7,
      "outputs": [
        {
          "output_type": "stream",
          "text": [
            "1 2 3 4 5 6 7 8 9 10 "
          ],
          "name": "stdout"
        }
      ]
    },
    {
      "cell_type": "markdown",
      "metadata": {
        "id": "atT_6HTl9kfk",
        "colab_type": "text"
      },
      "source": [
        "**[문제1]**\n",
        "for문을 이용해서 10부터 0까지 -2씩 출력"
      ]
    },
    {
      "cell_type": "code",
      "metadata": {
        "id": "4-dyKkgu9xEe",
        "colab_type": "code",
        "colab": {
          "base_uri": "https://localhost:8080/",
          "height": 35
        },
        "outputId": "ab433c94-e0aa-4cda-ed91-52b30883f5fb"
      },
      "source": [
        "for i in range(10, -1, -2) :\n",
        "  print(i, end=' ')"
      ],
      "execution_count": 11,
      "outputs": [
        {
          "output_type": "stream",
          "text": [
            "10 8 6 4 2 0 "
          ],
          "name": "stdout"
        }
      ]
    },
    {
      "cell_type": "code",
      "metadata": {
        "id": "e0PQoASg-MsD",
        "colab_type": "code",
        "colab": {
          "base_uri": "https://localhost:8080/",
          "height": 108
        },
        "outputId": "9d19028b-6030-4a70-ca8d-e318a59ac664"
      },
      "source": [
        "a=[1.3, 2.1, 4.5, 5, 5.1]\n",
        "for i in a:\n",
        "  print(a)"
      ],
      "execution_count": 13,
      "outputs": [
        {
          "output_type": "stream",
          "text": [
            "[1.3, 2.1, 4.5, 5, 5.1]\n",
            "[1.3, 2.1, 4.5, 5, 5.1]\n",
            "[1.3, 2.1, 4.5, 5, 5.1]\n",
            "[1.3, 2.1, 4.5, 5, 5.1]\n",
            "[1.3, 2.1, 4.5, 5, 5.1]\n"
          ],
          "name": "stdout"
        }
      ]
    },
    {
      "cell_type": "code",
      "metadata": {
        "id": "p87FnnQa-l_E",
        "colab_type": "code",
        "colab": {
          "base_uri": "https://localhost:8080/",
          "height": 108
        },
        "outputId": "8594606a-1fbe-4cd7-901b-0aac8d5d4899"
      },
      "source": [
        "a=[1.3, 2.1, 4.5, 5, 5.1]\n",
        "for i in range(len(a)):\n",
        "  print(a[i])"
      ],
      "execution_count": 20,
      "outputs": [
        {
          "output_type": "stream",
          "text": [
            "1.3\n",
            "2.1\n",
            "4.5\n",
            "5\n",
            "5.1\n"
          ],
          "name": "stdout"
        }
      ]
    },
    {
      "cell_type": "code",
      "metadata": {
        "id": "xkkGkYdU-fBm",
        "colab_type": "code",
        "colab": {}
      },
      "source": [
        ""
      ],
      "execution_count": 0,
      "outputs": []
    },
    {
      "cell_type": "markdown",
      "metadata": {
        "id": "Aw1yIXeP_ZeH",
        "colab_type": "text"
      },
      "source": [
        "**[문제2]**\n",
        "for문을\n",
        "\n",
        "```\n",
        "#\n",
        "Hello Python 1\n",
        "...\n",
        "Hello Python 10\n",
        "```\n"
      ]
    },
    {
      "cell_type": "code",
      "metadata": {
        "id": "W6-W2vvX_s52",
        "colab_type": "code",
        "colab": {
          "base_uri": "https://localhost:8080/",
          "height": 199
        },
        "outputId": "e4559462-ff86-4e5a-87c0-d0db325e9d70"
      },
      "source": [
        "for i in range(1, 11):\n",
        "  print('Hello Python',i)"
      ],
      "execution_count": 23,
      "outputs": [
        {
          "output_type": "stream",
          "text": [
            "Hello Python 1\n",
            "Hello Python 2\n",
            "Hello Python 3\n",
            "Hello Python 4\n",
            "Hello Python 5\n",
            "Hello Python 6\n",
            "Hello Python 7\n",
            "Hello Python 8\n",
            "Hello Python 9\n",
            "Hello Python 10\n"
          ],
          "name": "stdout"
        }
      ]
    },
    {
      "cell_type": "code",
      "metadata": {
        "id": "wnJbNKZFACxk",
        "colab_type": "code",
        "colab": {
          "base_uri": "https://localhost:8080/",
          "height": 54
        },
        "outputId": "d478f3ab-4d6d-47e9-ce61-38429b14263f"
      },
      "source": [
        "count=int(input('몇번 반복? >>>' ))\n",
        "type(count)"
      ],
      "execution_count": 25,
      "outputs": [
        {
          "output_type": "stream",
          "text": [
            "몇번 반복? >>>5\n"
          ],
          "name": "stdout"
        },
        {
          "output_type": "execute_result",
          "data": {
            "text/plain": [
              "int"
            ]
          },
          "metadata": {
            "tags": []
          },
          "execution_count": 25
        }
      ]
    },
    {
      "cell_type": "code",
      "metadata": {
        "id": "jobf80ANAXvb",
        "colab_type": "code",
        "colab": {
          "base_uri": "https://localhost:8080/",
          "height": 90
        },
        "outputId": "43f56634-41fa-4994-87d8-593c100d0cdf"
      },
      "source": [
        "count=int(input('몇번 반복? >>>' ))\n",
        "for i in range(count):\n",
        "  print('좋아',i+1)"
      ],
      "execution_count": 28,
      "outputs": [
        {
          "output_type": "stream",
          "text": [
            "몇번 반복? >>>3\n",
            "좋아 1\n",
            "좋아 2\n",
            "좋아 3\n"
          ],
          "name": "stdout"
        }
      ]
    },
    {
      "cell_type": "code",
      "metadata": {
        "id": "-2ue_fx-A4ge",
        "colab_type": "code",
        "colab": {
          "base_uri": "https://localhost:8080/",
          "height": 54
        },
        "outputId": "ffd9d9ef-4d32-4c5c-a828-76f0b6c87eb2"
      },
      "source": [
        "a=list(map(int, (input('숫자 입력 >>>' ).split())))\n",
        "print(a)"
      ],
      "execution_count": 33,
      "outputs": [
        {
          "output_type": "stream",
          "text": [
            "숫자 입력 >>>2 5 4 6\n",
            "[2, 5, 4, 6]\n"
          ],
          "name": "stdout"
        }
      ]
    },
    {
      "cell_type": "markdown",
      "metadata": {
        "id": "EDgXZfWICfYV",
        "colab_type": "text"
      },
      "source": [
        "**[문제3]**\n",
        "숫자 5개를 입력 받아 합계 구하기"
      ]
    },
    {
      "cell_type": "code",
      "metadata": {
        "id": "YYNGyNUnCcUD",
        "colab_type": "code",
        "colab": {
          "base_uri": "https://localhost:8080/",
          "height": 72
        },
        "outputId": "87fd509f-2814-4db6-9c38-f60c51ad587d"
      },
      "source": [
        "a=list(map(int, (input('숫자 입력 >>>' ).split())))\n",
        "sum = 0\n",
        "avg = 0.0\n",
        "for i in range(len(a)):\n",
        "  sum+=a[i]\n",
        "print('합계 :', sum)\n",
        "avg= sum/len(a)\n",
        "print('평균 :', avg)"
      ],
      "execution_count": 39,
      "outputs": [
        {
          "output_type": "stream",
          "text": [
            "숫자 입력 >>>1 2 3 4 5\n",
            "합계 : 15\n",
            "평균 : 3.0\n"
          ],
          "name": "stdout"
        }
      ]
    },
    {
      "cell_type": "code",
      "metadata": {
        "id": "iLjyC1LUEMMT",
        "colab_type": "code",
        "colab": {}
      },
      "source": [
        ""
      ],
      "execution_count": 0,
      "outputs": []
    }
  ]
}