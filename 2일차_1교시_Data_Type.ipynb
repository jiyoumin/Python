{
  "nbformat": 4,
  "nbformat_minor": 0,
  "metadata": {
    "colab": {
      "name": "2일차_1교시_Data_Type.ipynb",
      "provenance": [],
      "collapsed_sections": [],
      "authorship_tag": "ABX9TyMba9OY90C0eHlZxq1sQRYZ",
      "include_colab_link": true
    },
    "kernelspec": {
      "name": "python3",
      "display_name": "Python 3"
    }
  },
  "cells": [
    {
      "cell_type": "markdown",
      "metadata": {
        "id": "view-in-github",
        "colab_type": "text"
      },
      "source": [
        "<a href=\"https://colab.research.google.com/github/jiyoumin/Python/blob/master/2%EC%9D%BC%EC%B0%A8_1%EA%B5%90%EC%8B%9C_Data_Type.ipynb\" target=\"_parent\"><img src=\"https://colab.research.google.com/assets/colab-badge.svg\" alt=\"Open In Colab\"/></a>"
      ]
    },
    {
      "cell_type": "markdown",
      "metadata": {
        "id": "mKxNyh6J4fk_",
        "colab_type": "text"
      },
      "source": [
        "**[학습목표]**\n",
        "---\n",
        "1. data type\n",
        "2. 출력문\n",
        "\n",
        "---\n",
        "\n"
      ]
    },
    {
      "cell_type": "code",
      "metadata": {
        "id": "XqviXOQ44xJf",
        "colab_type": "code",
        "outputId": "f50f77ca-525b-486a-fa30-192eeb995c0f",
        "colab": {
          "base_uri": "https://localhost:8080/",
          "height": 35
        }
      },
      "source": [
        "print('Hello')"
      ],
      "execution_count": 0,
      "outputs": [
        {
          "output_type": "stream",
          "text": [
            "Hello\n"
          ],
          "name": "stdout"
        }
      ]
    },
    {
      "cell_type": "code",
      "metadata": {
        "id": "MQHYIiRx5Chw",
        "colab_type": "code",
        "outputId": "18b591ef-6485-43c1-d635-678a69bb9569",
        "colab": {
          "base_uri": "https://localhost:8080/",
          "height": 35
        }
      },
      "source": [
        "name= '유민'\n",
        "print(name, '안녕')"
      ],
      "execution_count": 0,
      "outputs": [
        {
          "output_type": "stream",
          "text": [
            "유민 안녕\n"
          ],
          "name": "stdout"
        }
      ]
    },
    {
      "cell_type": "code",
      "metadata": {
        "id": "dDET4WUI5Vyf",
        "colab_type": "code",
        "outputId": "2635452f-9963-42ff-a927-c6a0069677f9",
        "colab": {
          "base_uri": "https://localhost:8080/",
          "height": 90
        }
      },
      "source": [
        "a=10\n",
        "b=6.0\n",
        "print('a/b=',a/b)\n",
        "print('a//b=',a//b)\n",
        "print('a**b=',a**b)\n",
        "print('a%b=',a%b)"
      ],
      "execution_count": 0,
      "outputs": [
        {
          "output_type": "stream",
          "text": [
            "a/b= 1.6666666666666667\n",
            "a//b= 1.0\n",
            "a**b= 1000000.0\n",
            "a%b= 4.0\n"
          ],
          "name": "stdout"
        }
      ]
    },
    {
      "cell_type": "code",
      "metadata": {
        "id": "5aO0HGb_5_rx",
        "colab_type": "code",
        "outputId": "afcc52c0-524a-4a13-a3f7-d47004f9b5e7",
        "colab": {
          "base_uri": "https://localhost:8080/",
          "height": 35
        }
      },
      "source": [
        "# Date type\n",
        "print(type(a), type(b), type(name))"
      ],
      "execution_count": 0,
      "outputs": [
        {
          "output_type": "stream",
          "text": [
            "<class 'int'> <class 'float'> <class 'str'>\n"
          ],
          "name": "stdout"
        }
      ]
    },
    {
      "cell_type": "code",
      "metadata": {
        "id": "5azXIh7u672X",
        "colab_type": "code",
        "colab": {}
      },
      "source": [
        "a=[1,2,3]\n",
        "b={'햄버거','치킨'}\n",
        "c=1,2,3"
      ],
      "execution_count": 0,
      "outputs": []
    },
    {
      "cell_type": "code",
      "metadata": {
        "id": "fPbNRWgj7CeP",
        "colab_type": "code",
        "outputId": "1259ad37-5d05-4939-ff54-643cdc69618d",
        "colab": {
          "base_uri": "https://localhost:8080/",
          "height": 35
        }
      },
      "source": [
        "type(a), type(b), type(c)"
      ],
      "execution_count": 0,
      "outputs": [
        {
          "output_type": "execute_result",
          "data": {
            "text/plain": [
              "(list, set, tuple)"
            ]
          },
          "metadata": {
            "tags": []
          },
          "execution_count": 21
        }
      ]
    },
    {
      "cell_type": "code",
      "metadata": {
        "id": "E-2oRVEF7mSQ",
        "colab_type": "code",
        "outputId": "97302f21-359d-47cd-f8f3-a652af057528",
        "colab": {
          "base_uri": "https://localhost:8080/",
          "height": 35
        }
      },
      "source": [
        "a[0]"
      ],
      "execution_count": 0,
      "outputs": [
        {
          "output_type": "execute_result",
          "data": {
            "text/plain": [
              "1"
            ]
          },
          "metadata": {
            "tags": []
          },
          "execution_count": 22
        }
      ]
    },
    {
      "cell_type": "code",
      "metadata": {
        "id": "ynN_ABkT8JPW",
        "colab_type": "code",
        "outputId": "93541e8d-655b-4f76-c0ee-e40f469c2cc7",
        "colab": {
          "base_uri": "https://localhost:8080/",
          "height": 35
        }
      },
      "source": [
        "a=True\n",
        "b=False\n",
        "a&b, a|b, type(a)"
      ],
      "execution_count": 0,
      "outputs": [
        {
          "output_type": "execute_result",
          "data": {
            "text/plain": [
              "(False, True, bool)"
            ]
          },
          "metadata": {
            "tags": []
          },
          "execution_count": 27
        }
      ]
    },
    {
      "cell_type": "code",
      "metadata": {
        "id": "-3BQZlZi83Y_",
        "colab_type": "code",
        "outputId": "2124bc8a-999f-4dc6-9315-9d8e3480288f",
        "colab": {
          "base_uri": "https://localhost:8080/",
          "height": 35
        }
      },
      "source": [
        "a=[2,4,6,8]\n",
        "len(a), a[-1]"
      ],
      "execution_count": 0,
      "outputs": [
        {
          "output_type": "execute_result",
          "data": {
            "text/plain": [
              "(4, 8)"
            ]
          },
          "metadata": {
            "tags": []
          },
          "execution_count": 30
        }
      ]
    },
    {
      "cell_type": "code",
      "metadata": {
        "id": "g8_tXiE69fXu",
        "colab_type": "code",
        "outputId": "d362f2f8-0d11-4ff8-90ac-48a2dae75138",
        "colab": {
          "base_uri": "https://localhost:8080/",
          "height": 35
        }
      },
      "source": [
        "b='인천정보산업고등학교'\n",
        "len(b)"
      ],
      "execution_count": 0,
      "outputs": [
        {
          "output_type": "execute_result",
          "data": {
            "text/plain": [
              "10"
            ]
          },
          "metadata": {
            "tags": []
          },
          "execution_count": 31
        }
      ]
    },
    {
      "cell_type": "code",
      "metadata": {
        "id": "6MSxexae9l32",
        "colab_type": "code",
        "colab": {}
      },
      "source": [
        ""
      ],
      "execution_count": 0,
      "outputs": []
    },
    {
      "cell_type": "code",
      "metadata": {
        "id": "cfK75dvG9Yne",
        "colab_type": "code",
        "colab": {}
      },
      "source": [
        ""
      ],
      "execution_count": 0,
      "outputs": []
    }
  ]
}